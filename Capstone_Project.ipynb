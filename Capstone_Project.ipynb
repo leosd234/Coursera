{
  "nbformat": 4,
  "nbformat_minor": 0,
  "metadata": {
    "colab": {
      "name": "Capstone Project.ipynb",
      "provenance": [],
      "collapsed_sections": []
    },
    "kernelspec": {
      "name": "python3",
      "display_name": "Python 3"
    }
  },
  "cells": [
    {
      "cell_type": "markdown",
      "metadata": {
        "id": "dOiZ6WWnV_xm"
      },
      "source": [
        "# Capstone project"
      ]
    },
    {
      "cell_type": "markdown",
      "metadata": {
        "id": "FmPwg8S5V4RM"
      },
      "source": [
        "This Notebook will be used for the capstone project."
      ]
    },
    {
      "cell_type": "code",
      "metadata": {
        "id": "MEEiFyNzpS7P"
      },
      "source": [
        "import pandas as pd\r\n",
        "import numpy as np\r\n"
      ],
      "execution_count": 1,
      "outputs": []
    },
    {
      "cell_type": "code",
      "metadata": {
        "colab": {
          "base_uri": "https://localhost:8080/"
        },
        "id": "FtdoRWYfWc1T",
        "outputId": "ad5724ed-c05c-4ad6-ac90-125275e6d264"
      },
      "source": [
        "print(\"Hello Capstone Project Course!\")"
      ],
      "execution_count": 2,
      "outputs": [
        {
          "output_type": "stream",
          "text": [
            "Hello Capstone Project Course!\n"
          ],
          "name": "stdout"
        }
      ]
    }
  ]
}
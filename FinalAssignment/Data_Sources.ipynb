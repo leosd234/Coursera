{
  "nbformat": 4,
  "nbformat_minor": 0,
  "metadata": {
    "colab": {
      "name": "Data_Sources.ipynb",
      "provenance": [],
      "collapsed_sections": []
    },
    "kernelspec": {
      "name": "python3",
      "display_name": "Python 3"
    }
  },
  "cells": [
    {
      "cell_type": "markdown",
      "metadata": {
        "id": "i404vcs7VSuJ"
      },
      "source": [
        "# 1. Data Sources\r\n",
        "## 1.1 Census Data\r\n",
        "To obtain macro economic trends in New York, Vinings such as population size, age, income etc This will eventually help us in narrowing the final neighbourhoods to set up the store¶\r\n",
        "### 1.1.1 https://datausa.io/profile/geo/vinings-ga\r\n",
        "### 1.1.2 https://www.census.gov/quickfacts/fact/table/viningscdpgeorgia,cobbcountygeorgia,atlantacitygeorgia/LND110210\r\n",
        "### 1.1.3 https://www.census.gov/quickfacts/NY\r\n",
        "## 1.2 Foursquare Data for Vinings, Atlanta and New York City neighbourhoods\r\n",
        "Identify similar venues as Vinings in New York City. The store should ideally be placed in location suitable to their core audiences ie family oriented, High Income etc. Venues profiles should be more or less similar to Vinings\r\n",
        "## 1.3 Foursquare Firmographic data for Furniture Stores in New York City neighbourhoods\r\n",
        "Competitors located in vicinity play an important role on margins. Neighbourhoods having too high or low competitors are not ideal and would like to have a visual view of their locations"
      ]
    },
    {
      "cell_type": "code",
      "metadata": {
        "id": "M67LIYZZUzL7"
      },
      "source": [
        ""
      ],
      "execution_count": null,
      "outputs": []
    }
  ]
}
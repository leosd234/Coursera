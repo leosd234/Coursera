{
  "nbformat": 4,
  "nbformat_minor": 0,
  "metadata": {
    "colab": {
      "name": "Introduccion.ipynb",
      "provenance": [],
      "collapsed_sections": []
    },
    "kernelspec": {
      "name": "python3",
      "display_name": "Python 3"
    }
  },
  "cells": [
    {
      "cell_type": "markdown",
      "metadata": {
        "id": "CgV1UETZU9Ag"
      },
      "source": [
        "## 1. Background\r\n",
        "A family owned furniture business is facing challenges due to sudden lockdown initiated to control COVID-19 spread. Being a brick and mortar store based out Vinings, Atlanta it is vital to keep costs down to ensure sufficient cash flow. Their primary suppliers and vendors are based out of New York and the uneven lockdowns have disrupted their supply chain\r\n",
        "## 2. Business Challenge\r\n",
        "Unfortunately the store fell victim to ongoing unrest and incurred significant damage due to rioting and looting. The management has hereby decided to move the store to New York City due following reasons:\r\n",
        "### 1. Lack of timely state aid to deal with damage\r\n",
        "### 2. Closer to suppliers helps to reduce shipping costs\r\n",
        "### 3. Current lease is about to expire\r\n",
        "The store is quite popular among older demographic with families who have high household Income. They have also launched a new brand to attract Millenials and is just getting noticed and are scouting locations in New York City to find ideal location to establish their store. They also intend to have a clear picture of their competitors in each neighbourhood\r\n",
        "## 3. Approach\r\n",
        "### 1. Define the current neighbourhood of Vinings, Atlanta\r\n",
        "### 2. Identify similar neighbourhoods in New York City\r\n",
        "### 3. Map neighbourhood closest to Vinings, Atlanta\r\n",
        "We also wish to consider other Macroeconomic factors such as population, unemployment rate, GDP, median age etc and competitor presence to decide the final site for locating the store"
      ]
    },
    {
      "cell_type": "code",
      "metadata": {
        "id": "D5mytZiHU0hn"
      },
      "source": [
        ""
      ],
      "execution_count": null,
      "outputs": []
    }
  ]
}